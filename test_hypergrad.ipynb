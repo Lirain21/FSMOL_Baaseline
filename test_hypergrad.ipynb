{
 "cells": [
  {
   "cell_type": "code",
   "execution_count": 1,
   "id": "5269c8e2",
   "metadata": {},
   "outputs": [],
   "source": [
    "import sys\n",
    "from pyprojroot import here as project_root\n",
    "\n",
    "sys.path.insert(0, str(project_root()))"
   ]
  },
  {
   "cell_type": "code",
   "execution_count": 2,
   "id": "198af5f4",
   "metadata": {},
   "outputs": [],
   "source": [
    "import torch\n",
    "from fs_mol.utils.cauchy_hypergradient import cauchy_hypergradient\n",
    "from fs_mol.utils.cauchy_hypergradient_jvp import cauchy_hypergradient_jvp"
   ]
  },
  {
   "cell_type": "code",
   "execution_count": null,
   "id": "c755cd5a",
   "metadata": {},
   "outputs": [],
   "source": []
  },
  {
   "cell_type": "code",
   "execution_count": 3,
   "id": "0ed8c3e4",
   "metadata": {},
   "outputs": [],
   "source": [
    "def f_outer(params_outer, params_inner):\n",
    "    \"\"\" sum of squares of parameters \"\"\"\n",
    "    s = 0.0\n",
    "    for tup in (params_outer, params_inner):\n",
    "        for p in tup:\n",
    "            s += (p**2).sum()\n",
    "    return s"
   ]
  },
  {
   "cell_type": "code",
   "execution_count": 4,
   "id": "8334c193",
   "metadata": {},
   "outputs": [
    {
     "data": {
      "text/plain": [
       "(None, None)"
      ]
     },
     "execution_count": 4,
     "metadata": {},
     "output_type": "execute_result"
    }
   ],
   "source": [
    "a = torch.randn(3, 4)\n",
    "b = torch.randn(5)\n",
    "a.requires_grad_(True)\n",
    "b.requires_grad_(True)\n",
    "\n",
    "a.grad, b.grad"
   ]
  },
  {
   "cell_type": "code",
   "execution_count": 5,
   "id": "0ef53cdd",
   "metadata": {},
   "outputs": [
    {
     "data": {
      "text/plain": [
       "tensor(19.8681, grad_fn=<AddBackward0>)"
      ]
     },
     "execution_count": 5,
     "metadata": {},
     "output_type": "execute_result"
    }
   ],
   "source": [
    "cauchy_hypergradient(\n",
    "    f_outer,\n",
    "    f_outer, # both functions are the same here,\n",
    "    params_outer=(a,),\n",
    "    params_inner=(b,),\n",
    "    device=torch.device(\"cpu\")\n",
    ")"
   ]
  },
  {
   "cell_type": "code",
   "execution_count": 6,
   "id": "cf44aa99",
   "metadata": {},
   "outputs": [
    {
     "data": {
      "text/plain": [
       "(tensor([[-0.8843, -3.3354,  1.8506, -0.0197],\n",
       "         [ 0.8465, -1.0572,  0.3310, -1.2549],\n",
       "         [-3.7115, -2.1355, -2.2661,  2.6281]]),\n",
       " tensor([-3.6669, -1.0069,  1.1539,  1.7742, -3.3623]))"
      ]
     },
     "execution_count": 6,
     "metadata": {},
     "output_type": "execute_result"
    }
   ],
   "source": [
    "a.grad, b.grad"
   ]
  },
  {
   "cell_type": "code",
   "execution_count": 7,
   "id": "fce34254",
   "metadata": {},
   "outputs": [],
   "source": [
    "a.grad, b.grad = None, None"
   ]
  },
  {
   "cell_type": "code",
   "execution_count": 8,
   "id": "88840f97",
   "metadata": {},
   "outputs": [
    {
     "data": {
      "text/plain": [
       "tensor(19.8681, grad_fn=<AddBackward0>)"
      ]
     },
     "execution_count": 8,
     "metadata": {},
     "output_type": "execute_result"
    }
   ],
   "source": [
    "cauchy_hypergradient_jvp(\n",
    "    f_outer,\n",
    "    f_outer, # both functions are the same here,\n",
    "    params_outer=(a,),\n",
    "    params_inner=(b,),\n",
    "    device=torch.device(\"cpu\")\n",
    ")"
   ]
  },
  {
   "cell_type": "code",
   "execution_count": 9,
   "id": "ea3a9785",
   "metadata": {},
   "outputs": [
    {
     "data": {
      "text/plain": [
       "(tensor([[-0.8843, -3.3354,  1.8506, -0.0197],\n",
       "         [ 0.8465, -1.0572,  0.3310, -1.2549],\n",
       "         [-3.7115, -2.1355, -2.2661,  2.6281]]),\n",
       " tensor([-3.6669, -1.0069,  1.1539,  1.7742, -3.3623]))"
      ]
     },
     "execution_count": 9,
     "metadata": {},
     "output_type": "execute_result"
    }
   ],
   "source": [
    "a.grad, b.grad"
   ]
  },
  {
   "cell_type": "code",
   "execution_count": null,
   "id": "24d67cac",
   "metadata": {},
   "outputs": [],
   "source": []
  },
  {
   "cell_type": "code",
   "execution_count": null,
   "id": "9686a977",
   "metadata": {},
   "outputs": [],
   "source": []
  },
  {
   "cell_type": "code",
   "execution_count": null,
   "id": "dc19cb6c",
   "metadata": {},
   "outputs": [],
   "source": []
  },
  {
   "cell_type": "code",
   "execution_count": 10,
   "id": "13d48b10",
   "metadata": {},
   "outputs": [],
   "source": [
    "def f_outer(params_outer, params_inner):\n",
    "    \"\"\" quadratic function \"\"\"\n",
    "    a, b, c = params_outer\n",
    "    x,  = params_inner\n",
    "    \n",
    "    return a*(x**2) + b*x + c\n",
    "\n",
    "f_inner = f_outer"
   ]
  },
  {
   "cell_type": "code",
   "execution_count": 11,
   "id": "e08704fb",
   "metadata": {},
   "outputs": [],
   "source": [
    "a = torch.exp(torch.randn(1))[0]  # ensure positive\n",
    "b = torch.randn(1)[0]\n",
    "c = torch.randn(1)[0]\n",
    "x = torch.randn(1)[0]\n",
    "\n",
    "params_outer = (a, b, c)\n",
    "params_inner = (x, )\n",
    "for tup in (params_outer, params_inner):\n",
    "    for tensor in tup:\n",
    "        tensor.requires_grad_(True)"
   ]
  },
  {
   "cell_type": "code",
   "execution_count": 12,
   "id": "e00e162d",
   "metadata": {},
   "outputs": [
    {
     "data": {
      "text/plain": [
       "tensor(0.)"
      ]
     },
     "execution_count": 12,
     "metadata": {},
     "output_type": "execute_result"
    }
   ],
   "source": [
    "# minimize w.r.t. x, in this case done analytically\n",
    "with torch.no_grad():\n",
    "    x.fill_(- b / 2 / a)\n",
    "\n",
    "# Confirm that the x gradient is 0 here\n",
    "loss = f_inner(params_outer, params_inner)\n",
    "loss.backward()\n",
    "x.grad"
   ]
  },
  {
   "cell_type": "code",
   "execution_count": 13,
   "id": "5a247a7c",
   "metadata": {},
   "outputs": [
    {
     "data": {
      "text/plain": [
       "tensor(0.5018, grad_fn=<AddBackward0>)"
      ]
     },
     "execution_count": 13,
     "metadata": {},
     "output_type": "execute_result"
    }
   ],
   "source": [
    "# try my hypergradient\n",
    "cauchy_hypergradient(\n",
    "    f_outer,\n",
    "    f_inner,\n",
    "    params_outer=params_outer,\n",
    "    params_inner=params_inner,\n",
    "    device=torch.device(\"cpu\")\n",
    ")"
   ]
  },
  {
   "cell_type": "code",
   "execution_count": 14,
   "id": "0bd77a00",
   "metadata": {},
   "outputs": [
    {
     "data": {
      "text/plain": [
       "(tensor(0.0505), tensor(0.2246), tensor(1.))"
      ]
     },
     "execution_count": 14,
     "metadata": {},
     "output_type": "execute_result"
    }
   ],
   "source": [
    "tuple(t.grad for t in params_outer)"
   ]
  },
  {
   "cell_type": "code",
   "execution_count": 15,
   "id": "b1b3a2f9",
   "metadata": {},
   "outputs": [
    {
     "name": "stdout",
     "output_type": "stream",
     "text": [
      "(tensor(0.0505), tensor(0.2246), 1.0)\n"
     ]
    }
   ],
   "source": [
    "with torch.no_grad():\n",
    "    print(\n",
    "        (\n",
    "            b**2/4/a**2,\n",
    "            -b/2/a,\n",
    "            1.0\n",
    "        )\n",
    "    )"
   ]
  },
  {
   "cell_type": "code",
   "execution_count": 16,
   "id": "f0ba0a85",
   "metadata": {},
   "outputs": [],
   "source": [
    "a.grad, b.grad, c.grad, x.grad = None, None, None, None"
   ]
  },
  {
   "cell_type": "code",
   "execution_count": 17,
   "id": "55439794",
   "metadata": {},
   "outputs": [
    {
     "data": {
      "text/plain": [
       "tensor(0.5018, grad_fn=<AddBackward0>)"
      ]
     },
     "execution_count": 17,
     "metadata": {},
     "output_type": "execute_result"
    }
   ],
   "source": [
    "# try my hypergradient\n",
    "cauchy_hypergradient_jvp(\n",
    "    f_outer,\n",
    "    f_inner,\n",
    "    params_outer=params_outer,\n",
    "    params_inner=params_inner,\n",
    "    device=torch.device(\"cpu\")\n",
    ")"
   ]
  },
  {
   "cell_type": "code",
   "execution_count": 18,
   "id": "efe10fd8",
   "metadata": {},
   "outputs": [
    {
     "data": {
      "text/plain": [
       "(tensor(0.0505), tensor(0.2246), tensor(1.))"
      ]
     },
     "execution_count": 18,
     "metadata": {},
     "output_type": "execute_result"
    }
   ],
   "source": [
    "tuple(t.grad for t in params_outer)"
   ]
  },
  {
   "cell_type": "code",
   "execution_count": 19,
   "id": "9483c532",
   "metadata": {},
   "outputs": [
    {
     "data": {
      "text/plain": [
       "tensor(0.5018, grad_fn=<AddBackward0>)"
      ]
     },
     "execution_count": 19,
     "metadata": {},
     "output_type": "execute_result"
    }
   ],
   "source": [
    "# check that \"residual\" hypergradient is 0\n",
    "cauchy_hypergradient(\n",
    "    f_outer,\n",
    "    f_inner,\n",
    "    params_outer=params_outer,\n",
    "    params_inner=params_inner,\n",
    "    ignore_direct_grad=True,\n",
    "    device=torch.device(\"cpu\")\n",
    ")"
   ]
  },
  {
   "cell_type": "code",
   "execution_count": 20,
   "id": "d8c8bb47",
   "metadata": {},
   "outputs": [
    {
     "data": {
      "text/plain": [
       "(tensor(0.), tensor(0.), tensor(0.))"
      ]
     },
     "execution_count": 20,
     "metadata": {},
     "output_type": "execute_result"
    }
   ],
   "source": [
    "tuple(t.grad for t in params_outer)"
   ]
  },
  {
   "cell_type": "code",
   "execution_count": 21,
   "id": "088856cc",
   "metadata": {},
   "outputs": [
    {
     "data": {
      "text/plain": [
       "tensor(0.5018, grad_fn=<AddBackward0>)"
      ]
     },
     "execution_count": 21,
     "metadata": {},
     "output_type": "execute_result"
    }
   ],
   "source": [
    "# check that \"residual\" hypergradient is 0\n",
    "cauchy_hypergradient_jvp(\n",
    "    f_outer,\n",
    "    f_inner,\n",
    "    params_outer=params_outer,\n",
    "    params_inner=params_inner,\n",
    "    ignore_direct_grad=True,\n",
    "    device=torch.device(\"cpu\")\n",
    ")"
   ]
  },
  {
   "cell_type": "code",
   "execution_count": 22,
   "id": "b5aaaa2a",
   "metadata": {},
   "outputs": [
    {
     "data": {
      "text/plain": [
       "(tensor(0.), tensor(0.), tensor(0.))"
      ]
     },
     "execution_count": 22,
     "metadata": {},
     "output_type": "execute_result"
    }
   ],
   "source": [
    "tuple(t.grad for t in params_outer)"
   ]
  },
  {
   "cell_type": "code",
   "execution_count": null,
   "id": "95558581",
   "metadata": {},
   "outputs": [],
   "source": []
  },
  {
   "cell_type": "code",
   "execution_count": 23,
   "id": "d99f5007",
   "metadata": {},
   "outputs": [],
   "source": [
    "import numpy as np"
   ]
  },
  {
   "cell_type": "code",
   "execution_count": 24,
   "id": "95a7e50e",
   "metadata": {},
   "outputs": [],
   "source": [
    "def f_inner(params_outer, params_inner):\n",
    "    \"\"\" quadratic function \"\"\"\n",
    "    a, b, c = params_outer\n",
    "    x1, x2 = params_inner\n",
    "    \n",
    "    return (\n",
    "        torch.sum(a*(x1**2) + b*x1 + c) +\n",
    "        torch.sum(a*(x2**2) + b*x2 + c)\n",
    "    ) / 2\n",
    "\n",
    "def f_outer(params_outer, params_inner):\n",
    "    a, b, c = params_outer\n",
    "    x1, x2 = params_inner\n",
    "    \n",
    "    return torch.sum(a * (x1+x2)) / 2"
   ]
  },
  {
   "cell_type": "code",
   "execution_count": 25,
   "id": "57af6971",
   "metadata": {},
   "outputs": [],
   "source": [
    "# test in a loop:\n",
    "for _ in range(100):\n",
    "    \n",
    "    D = 3\n",
    "    a = torch.exp(torch.randn(D))  # ensure positive\n",
    "    b = torch.randn(D)\n",
    "    c = torch.randn(D)\n",
    "    x1 = torch.randn(D)\n",
    "    x2 = torch.randn(D)\n",
    "\n",
    "    params_outer = (a, b, c)\n",
    "    params_inner = (x1, x2)\n",
    "    for tup in (params_outer, params_inner):\n",
    "        for tensor in tup:\n",
    "            tensor.requires_grad_(True)\n",
    "\n",
    "    # minimize w.r.t. x, in this case done analytically\n",
    "    with torch.no_grad():\n",
    "        x1.data[:] = (-b/2/a).data.clone()\n",
    "        x2.data[:] = (-b/2/a).data.clone()\n",
    "\n",
    "    # Confirm that the x gradient is 0 here\n",
    "    loss = f_inner(params_outer, params_inner)\n",
    "    loss.backward()\n",
    "    x.grad\n",
    "\n",
    "    cauchy_hypergradient(\n",
    "        f_outer=f_outer,\n",
    "        f_inner=f_inner,\n",
    "        params_outer=params_outer,\n",
    "        params_inner=params_inner,\n",
    "        device=torch.device(\"cpu\")\n",
    "    )\n",
    "\n",
    "    assert np.allclose(a.grad.numpy(), 0.0)\n",
    "    assert np.allclose(b.grad.numpy(),-0.5)\n",
    "    assert np.allclose(c.grad.numpy(), 0.0)"
   ]
  },
  {
   "cell_type": "code",
   "execution_count": 26,
   "id": "bac28b9a",
   "metadata": {},
   "outputs": [],
   "source": [
    "# test in a loop:\n",
    "for _ in range(100):\n",
    "    \n",
    "    D = 3\n",
    "    a = torch.exp(torch.randn(D))  # ensure positive\n",
    "    b = torch.randn(D)\n",
    "    c = torch.randn(D)\n",
    "    x1 = torch.randn(D)\n",
    "    x2 = torch.randn(D)\n",
    "\n",
    "    params_outer = (a, b, c)\n",
    "    params_inner = (x1, x2)\n",
    "    for tup in (params_outer, params_inner):\n",
    "        for tensor in tup:\n",
    "            tensor.requires_grad_(True)\n",
    "\n",
    "    # minimize w.r.t. x, in this case done analytically\n",
    "    with torch.no_grad():\n",
    "        x1.data[:] = (-b/2/a).data.clone()\n",
    "        x2.data[:] = (-b/2/a).data.clone()\n",
    "\n",
    "    # Confirm that the x gradient is 0 here\n",
    "    loss = f_inner(params_outer, params_inner)\n",
    "    loss.backward()\n",
    "    x.grad\n",
    "\n",
    "    cauchy_hypergradient_jvp(\n",
    "        f_outer=f_outer,\n",
    "        f_inner=f_inner,\n",
    "        params_outer=params_outer,\n",
    "        params_inner=params_inner,\n",
    "        device=torch.device(\"cpu\")\n",
    "    )\n",
    "\n",
    "\n",
    "    assert np.allclose(a.grad.numpy(), 0.0)\n",
    "    assert np.allclose(b.grad.numpy(),-0.5)\n",
    "    assert np.allclose(c.grad.numpy(), 0.0)"
   ]
  },
  {
   "cell_type": "code",
   "execution_count": null,
   "id": "c91688fa",
   "metadata": {},
   "outputs": [],
   "source": []
  }
 ],
 "metadata": {
  "kernelspec": {
   "display_name": "Python 3 (ipykernel)",
   "language": "python",
   "name": "python3"
  },
  "language_info": {
   "codemirror_mode": {
    "name": "ipython",
    "version": 3
   },
   "file_extension": ".py",
   "mimetype": "text/x-python",
   "name": "python",
   "nbconvert_exporter": "python",
   "pygments_lexer": "ipython3",
   "version": "3.7.10"
  }
 },
 "nbformat": 4,
 "nbformat_minor": 5
}
