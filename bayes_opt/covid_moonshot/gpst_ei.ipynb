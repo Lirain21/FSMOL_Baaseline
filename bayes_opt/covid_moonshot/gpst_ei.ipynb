{
 "cells": [
  {
   "cell_type": "code",
   "execution_count": 1,
   "id": "7c583b3d",
   "metadata": {},
   "outputs": [],
   "source": [
    "import sys\n",
    "from pyprojroot import here as project_root\n",
    "\n",
    "sys.path.insert(0, str(project_root()))\n",
    "\n",
    "from bayes_opt.bo_utils import load_covid_moonshot_dataset, run_gp_ei_bo, min_so_far\n",
    "import numpy as np\n",
    "import torch\n",
    "import matplotlib.pyplot as plt\n",
    "from tqdm import tqdm\n",
    "from fs_mol.utils.chem_utils import get_binary_fingerprints\n",
    "\n",
    "device = torch.device(\"cuda\" if torch.cuda.is_available() else \"cpu\")"
   ]
  },
  {
   "cell_type": "code",
   "execution_count": 2,
   "id": "1b7123ce",
   "metadata": {},
   "outputs": [
    {
     "name": "stdout",
     "output_type": "stream",
     "text": [
      "Skipping datapoint O=C(C[C@@]1(C(=O)Nc2cncc3ccccc23)CCOc2ccc(Cl)cc21)N1CCN(CCCO)CC1 (IC50 Fluorescence not available).\n",
      "Skipping datapoint O=C(C[C@@]1(C(=O)Nc2cncc3ccccc23)CCOc2ccc(Cl)cc21)N1CCN(CC(F)(F)CO)CC1 (IC50 Fluorescence not available).\n",
      "Skipping datapoint O=C(Nc1cncc2cnccc12)[C@H]1CCOc2ccc(Cl)cc21 (IC50 Fluorescence not available).\n",
      "Skipping datapoint COc1cc(Cl)cc2c1OCC[C@@H]2C(=O)Nc1cncc2ccccc12 (IC50 Fluorescence not available).\n",
      "Skipping datapoint COc1ccc2c(N)nn(C(=O)C3CCOc4ccc(Cl)cc43)c2c1 (IC50 Fluorescence not available).\n",
      "Skipping datapoint O=C1CC(NC(=O)C2CCOc3ccc(Cl)cc32)CCN1 (IC50 Fluorescence not available).\n",
      "Skipping datapoint COc1ccc2n[nH]c(NC(=O)C3CCOc4ccc(Cl)cc43)c2c1 (IC50 Fluorescence not available).\n",
      "Skipping datapoint O=C(Nc1[nH]nc2cc(F)ccc12)C1CCOc2ccc(Cl)cc21 (IC50 Fluorescence not available).\n",
      "Skipping datapoint O=C(Cc1cccc(Cl)c1)N[C@H]1CCNC1=O (IC50 Fluorescence not available).\n",
      "Skipping datapoint Cc1ccncc1NC(=O)[C@@H](C)OC(F)F (IC50 Fluorescence not available).\n",
      "Skipping datapoint COc1ccc(OC)c(CNC(=O)Nc2cn(C)c(=O)c3ccccc23)c1 (IC50 Fluorescence not available).\n",
      "Skipping datapoint CC(C)N(C(=O)Cc1c(O)c2ccccc2[nH]c1=O)C(C)C (IC50 Fluorescence not available).\n",
      "Skipping datapoint Cc1ccc(NC(=O)Nc2cn(CC(C)C)c(=O)c3ccccc23)c(Br)c1 (IC50 Fluorescence not available).\n",
      "Skipping datapoint COc1ccc(NC(=O)Nc2cn(C)c(=O)c3ccccc23)cc1OC (IC50 Fluorescence not available).\n",
      "Skipping datapoint CC(=O)c1cccc(NC(=O)Nc2cn(C)c(=O)c3ccccc23)c1 (IC50 Fluorescence not available).\n",
      "Skipping datapoint Cc1cc(NC(=O)Nc2cn(CC(C)C)c(=O)c3ccccc23)no1 (IC50 Fluorescence not available).\n",
      "Skipping datapoint CCOC(=O)c1ccc(NC(=O)Nc2cn(C)c(=O)c3ccccc23)cc1 (IC50 Fluorescence not available).\n",
      "Skipping datapoint CC(C)Cn1cc(NC(=O)NCC2CCCO2)c2ccccc2c1=O (IC50 Fluorescence not available).\n",
      "Skipping datapoint COc1ccc(NC(=O)Nc2cn(C)c(=O)c3ccccc23)c(OC)c1 (IC50 Fluorescence not available).\n",
      "Skipping datapoint CC(C)Cn1cc(NC(=O)NCCc2c[nH]c3ccccc23)c2ccccc2c1=O (IC50 Fluorescence not available).\n",
      "Skipping datapoint Cc1cccnc1NC(=O)Nc1cn(CC(C)C)c(=O)c2ccccc12 (IC50 Fluorescence not available).\n",
      "Skipping datapoint CC(C)Cn1cc(NC(=O)Nc2cccnc2)c2ccccc2c1=O (IC50 Fluorescence not available).\n",
      "Skipping datapoint CCCc1c(C)[nH]c2[nH]n(-c3ccccc3)c(=O)c2c1=O (IC50 Fluorescence not available).\n",
      "Skipping datapoint CC(C)Cn1cc(NC(=O)NC2CCCCCC2)c2ccccc2c1=O (IC50 Fluorescence not available).\n",
      "Skipping datapoint COc1ccc(OC)c(CNC(=O)Nc2cn(CC(C)C)c(=O)c3ccccc23)c1 (IC50 Fluorescence not available).\n",
      "Skipping datapoint CCOC(=O)Cc1csc(NC(=O)Nc2cn(CC(C)C)c(=O)c3ccccc23)n1 (IC50 Fluorescence not available).\n",
      "Skipping datapoint CC(C)Cn1cc(NC(=O)Nc2nc3ccccc3s2)c2ccccc2c1=O (IC50 Fluorescence not available).\n",
      "Skipping datapoint COc1cc2c(cc1OC)C(C)N(C(=O)Nc1cn(C)c(=O)c3ccccc13)CC2 (IC50 Fluorescence not available).\n",
      "Skipping datapoint COc1cc(Cl)c(C)cc1NC(=O)Nc1cn(C)c(=O)c2ccccc12 (IC50 Fluorescence not available).\n",
      "Skipping datapoint CCN(CC)S(=O)(=O)c1ccc(NC(=O)Nc2cn(C)c(=O)c3ccccc23)cc1 (IC50 Fluorescence not available).\n",
      "Skipping datapoint CC(C)Cn1cc(NC(=O)NCCC2=CCCCC2)c2ccccc2c1=O (IC50 Fluorescence not available).\n",
      "Skipping datapoint COc1ccc(N2C(=O)CCS2(=O)=O)cc1S(=O)(=O)Nc1cccc2cccnc12 (IC50 Fluorescence not available).\n",
      "Skipping datapoint CC(C)Cn1cc(NC(=O)NC2CCCc3ccccc32)c2ccccc2c1=O (IC50 Fluorescence not available).\n",
      "Skipping datapoint COc1cc(Cl)c(C)cc1NC(=O)Nc1cn(CC(C)C)c(=O)c2ccccc12 (IC50 Fluorescence not available).\n",
      "Skipping datapoint COc1ccc(OC)c(CCNC(=O)Nc2cn(CC(C)C)c(=O)c3ccccc23)c1 (IC50 Fluorescence not available).\n",
      "Skipping datapoint Cn1cc(NC(=O)NCc2ccccn2)c2ccccc2c1=O (IC50 Fluorescence not available).\n",
      "Skipping datapoint CC(C)Cn1cc(NC(=O)NCc2ccc3c(c2)OCO3)c2ccccc2c1=O (IC50 Fluorescence not available).\n",
      "Skipping datapoint COC(=O)c1sccc1NC(=O)Nc1cn(CC(C)C)c(=O)c2ccccc12 (IC50 Fluorescence not available).\n",
      "Skipping datapoint COc1ccc2nc(NC(=O)Nc3cn(CC(C)C)c(=O)c4ccccc34)sc2c1 (IC50 Fluorescence not available).\n",
      "Skipping datapoint Nc1n[nH]c2cc(O)nc(O)c12 (IC50 Fluorescence not available).\n",
      "Skipping datapoint COC(=O)c1c(C)nn(-c2ccccc2)c1-c1cc(C)on1 (IC50 Fluorescence not available).\n",
      "Skipping datapoint O=[N+]([O-])c1cnc(Sc2nccc(-c3cccnc3)n2)s1 (IC50 Fluorescence not available).\n",
      "Skipping datapoint Cc1ccncc1NC(=O)Cc1cc(Cl)cc(OCc2ccc(OCc3ccccc3F)cc2)c1 (IC50 Fluorescence not available).\n",
      "Skipping datapoint CC(C)(C)c1ccc(N(C(=O)c2ccco2)C(C(=O)NCCc2cccc(F)c2)c2ccccc2)cc1 (IC50 Fluorescence not available).\n",
      "Skipping datapoint O=C(Nc1cccnc1)NC1(C#Cc2c[nH]cn2)CC1 (IC50 Fluorescence not available).\n",
      "Skipping datapoint Cn1cc(NC(=O)NCCc2ccc(Cl)cc2)c2ccccc2c1=O (IC50 Fluorescence not available).\n",
      "Skipping datapoint CC(C)Cn1cc(NC(=O)NCCc2ccc(Cl)cc2)c2ccccc2c1=O (IC50 Fluorescence not available).\n",
      "Skipping datapoint Cn1cc(NC(=O)NCCc2ccsc2)c2ccccc2c1=O (IC50 Fluorescence not available).\n",
      "Skipping datapoint CC(C)Cn1cc(NC(=O)NCCCN2CCC(C)CC2)c2ccccc2c1=O (IC50 Fluorescence not available).\n",
      "Skipping datapoint CCCCN(CCNC(=O)Nc1cn(C)c(=O)c2ccccc12)Cc1ccco1 (IC50 Fluorescence not available).\n",
      "Skipping datapoint Cn1cc(NC(=O)N2CCN(C(=O)c3ccco3)CC2)c2ccccc2c1=O (IC50 Fluorescence not available).\n",
      "Skipping datapoint Cn1cc(NC(=O)N(Cc2ccco2)CC2CCCO2)c2ccccc2c1=O (IC50 Fluorescence not available).\n",
      "Skipping datapoint CC(C)OCCCN(Cc1ccco1)C(=O)Nc1cn(C)c(=O)c2ccccc12 (IC50 Fluorescence not available).\n",
      "Skipping datapoint CCc1ccccc1N(CC)C(=O)Nc1cn(C)c(=O)c2ccccc12 (IC50 Fluorescence not available).\n",
      "Skipping datapoint COC(=O)c1c(NCCCc2ccccc2)c2cc(F)ccc2[nH]c1=O (IC50 Fluorescence not available).\n",
      "Skipping datapoint CCOC(=O)N1CCC(NC(=O)Nc2cn(C)c(=O)c3ccccc23)CC1 (IC50 Fluorescence not available).\n",
      "Skipping datapoint Cn1cc(NC(=O)NCCCN2CCc3ccccc3C2)c2ccccc2c1=O (IC50 Fluorescence not available).\n",
      "Skipping datapoint CC(C)Cn1cc(NC(=O)NCCCN2CCCC2=O)c2ccccc2c1=O (IC50 Fluorescence not available).\n",
      "Skipping datapoint CC(C)Cn1cc(NC(=O)N2CCC(c3ccccc3)C2)c2ccccc2c1=O (IC50 Fluorescence not available).\n",
      "Skipping datapoint CCCCN(CCCNC(=O)Nc1cn(CC(C)C)c(=O)c2ccccc12)c1ccccc1 (IC50 Fluorescence not available).\n",
      "Skipping datapoint CC(C)Cn1cc(NC(=O)N2CCC(Cc3ccccc3)CC2)c2ccccc2c1=O (IC50 Fluorescence not available).\n",
      "Skipping datapoint Cc1ccc(CN2CCC(CNC(=O)Nc3cn(CC(C)C)c(=O)c4ccccc34)C2)cc1 (IC50 Fluorescence not available).\n",
      "Skipping datapoint CC(C)Cn1cc(NC(=O)NCCN2CCOCC2)c2ccccc2c1=O (IC50 Fluorescence not available).\n",
      "Skipping datapoint COc1cccc(C(=O)Nc2n[nH]c(SCc3ccc(Cl)cc3)n2)c1 (IC50 Fluorescence not available).\n",
      "Skipping datapoint O=C(Cc1ccsc1)N1CCN(c2cc(-c3cccs3)n[nH]2)CC1 (IC50 Fluorescence not available).\n",
      "Skipping datapoint CC(C)(C)c1ccc(N(C(=O)c2cccnc2)C(C(=O)NCCc2cccc(F)c2)c2cccnc2)cc1 (IC50 Fluorescence not available).\n",
      "Skipping datapoint COC(=O)C(c1ccccc1Cl)N1CCC(S)/C(=C/C(=O)O)C1 (IC50 Fluorescence not available).\n",
      "Skipping datapoint O=C(Nc1nncn1C1CC1)C1CCOc2ccccc21 (IC50 Fluorescence not available).\n",
      "Skipping datapoint O=C1CC(NC(=O)Cc2cccc(Cl)c2)CN1 (IC50 Fluorescence not available).\n",
      "Skipping datapoint Cc1cccc(COC(=O)c2cccc3c2NC(=O)C3=O)c1 (IC50 Fluorescence not available).\n",
      "Skipping datapoint Cc1ccc(OCCN2C(=O)C(=O)c3cccc(Cl)c32)cc1 (IC50 Fluorescence not available).\n",
      "Skipping datapoint CCOc1ccccc1CN1C(=O)C(=O)c2cc(Br)ccc21 (IC50 Fluorescence not available).\n",
      "Skipping datapoint COc1ccc(CN2C(=O)C(=O)c3cc(Br)cc(C)c32)cc1OC (IC50 Fluorescence not available).\n",
      "Skipping datapoint Cc1cccc(NC(=O)CN2C(=O)C(=O)c3ccccc32)c1 (IC50 Fluorescence not available).\n",
      "Skipping datapoint N#Cc1ccc(CN2C(=O)C(=O)c3cccc(Br)c32)c(F)c1 (IC50 Fluorescence not available).\n",
      "Skipping datapoint N#Cc1cccc(CN2C(=O)C(=O)c3cccc(Br)c32)c1 (IC50 Fluorescence not available).\n",
      "Skipping datapoint O=C1Nc2ccc(OCCF)cc2C1=O (IC50 Fluorescence not available).\n",
      "Skipping datapoint COC(=O)c1cc(Br)cc2c1NC(=O)C2=O (IC50 Fluorescence not available).\n",
      "Skipping datapoint O=C1C(=O)N(Cc2ncon2)c2ccc(Br)cc21 (IC50 Fluorescence not available).\n",
      "Skipping datapoint O=C(COc1ccccc1F)Nc1ncnc2[nH]cnc12 (IC50 Fluorescence not available).\n",
      "Skipping datapoint O=C1C(Nc2ncnc3[nH]cnc23)CCN1Cc1ccccc1 (IC50 Fluorescence not available).\n",
      "Skipping datapoint Cn1c(-c2ccc(NC(=O)C3CCCCC(=O)N3)cc2)nc2ccccc21 (IC50 Fluorescence not available).\n",
      "Skipping datapoint Cc1[nH]c2ncnc(NC(=O)c3cc4ccccc4c(=O)o3)c2c1C (IC50 Fluorescence not available).\n",
      "Skipping datapoint O=C1CCCCC(C(=O)Nc2ccc(-c3nc[nH]n3)cc2F)N1 (IC50 Fluorescence not available).\n",
      "Skipping datapoint O=C(Nc1c[nH]nc1-c1ccccn1)c1cccc2nccn12 (IC50 Fluorescence not available).\n",
      "Skipping datapoint Cc1[nH]c2ncnc(NC(=O)C3CCN(c4ccc(Cl)cn4)CC3)c2c1C (IC50 Fluorescence not available).\n",
      "Skipping datapoint O=C(Nc1nncn1C1CC1)[C@@H]1CCOc2ccc(Cl)cc21 (IC50 Fluorescence not available).\n",
      "Skipping datapoint O=C(Nc1nncn1C1CC1)[C@H]1CCOc2ccc(Cl)cc21 (IC50 Fluorescence not available).\n",
      "Skipping datapoint O=C(Nc1nncn1C1CC1)C1CCOc2c(F)cccc21 (IC50 Fluorescence not available).\n",
      "Skipping datapoint Cc1ccncc1CC(=O)Nc1cccc2c1CNCC2 (IC50 Fluorescence not available).\n",
      "Skipping datapoint Cc1ccncc1NC(=O)Cc1ccc2[nH]ncc2c1 (IC50 Fluorescence not available).\n",
      "Skipping datapoint CCn1c(CSc2nc(C)c(C)n2CC2CCCO2)nc2cc(S(=O)(=O)N(C)C)ccc21 (IC50 Fluorescence not available).\n",
      "Skipping datapoint CCCc1cc2c(cc1S(=O)(=O)N1CCN(c3ccccc3)CC1)OCO2 (IC50 Fluorescence not available).\n",
      "Skipping datapoint C=CC(=O)N(c1ccc(C(C)(C)C)cc1)C(C(=O)NCCc1cccc(F)c1)c1cncc(O)c1 (IC50 Fluorescence not available).\n",
      "Skipping datapoint C=CC(=O)N(c1ccc(C(F)(F)F)cc1)C(C(=O)NCCc1cccc(F)c1)c1cncc(O)c1 (IC50 Fluorescence not available).\n",
      "Skipping datapoint C=CC(=O)N(c1cc(C(C)(C)C)on1)C(C(=O)NCCc1cccc(F)c1)c1cccnc1 (IC50 Fluorescence not available).\n",
      "Skipping datapoint C=CC(=O)N(c1cc(C(C)(C)C)on1)C(C(=O)NCCc1cccc(F)c1)c1cncc(Cl)c1 (IC50 Fluorescence not available).\n",
      "Skipping datapoint O=C(NCc1coc2ccccc12)C1CCc2nnc(-c3ccc(O)cc3)n2C1 (IC50 Fluorescence not available).\n",
      "Skipping datapoint Cc1nc(-c2cccc(CNC(=O)Nc3cccc(CN4CCCC4=O)c3)c2)n[nH]1 (IC50 Fluorescence not available).\n",
      "Skipping datapoint Cn1cnc(CN(C(=O)c2cnnn2-c2ccccc2)c2ccc(OCc3ccccc3)cc2)c1 (IC50 Fluorescence not available).\n",
      "Skipping datapoint Cn1ccc(CN(C(=O)Cc2cccnc2)c2ccc(-c3ccccn3)cc2)n1 (IC50 Fluorescence not available).\n",
      "Skipping datapoint COc1ccccc1OCCNC(=O)c1cc(=O)[nH]c2cccc(F)c12 (IC50 Fluorescence not available).\n",
      "Skipping datapoint O=C(Cc1ccc2[nH]c(=O)[nH]c2c1)NC1(CNC(=O)c2cnc[nH]2)CC1 (IC50 Fluorescence not available).\n",
      "Skipping datapoint O=C1Nc2c(Br)cccc2C1=O (IC50 Fluorescence not available).\n",
      "Skipping datapoint O=C1C(=O)N(Cc2ccc(Br)cc2)c2c(Br)cccc21 (IC50 Fluorescence not available).\n",
      "Skipping datapoint O=C1Nc2ccc(Br)cc2C1=O (IC50 Fluorescence not available).\n",
      "Skipping datapoint Cc1cc(Br)cc2c1N(CCBr)C(=O)C2=O (IC50 Fluorescence not available).\n",
      "Skipping datapoint O=C(O)C12CC(CNCc3ccc4c(c3)OCC4)(C1)OC2c1ccccc1 (IC50 Fluorescence not available).\n",
      "Skipping datapoint Cc1ccncc1NC(=O)C[C@H](c1ccccc1)N1CCC(O)CC1 (IC50 Fluorescence not available).\n",
      "Skipping datapoint Cc1ccncc1NC(=O)Cn1ccc2ccc(Cl)cc21 (IC50 Fluorescence not available).\n",
      "Skipping datapoint Cc1ccncc1NC(=O)CCc1ccn[nH]1 (IC50 Fluorescence not available).\n",
      "Skipping datapoint N#Cc1ccccc1S(=O)(=O)N1CCN(C(=O)c2cc(=O)[nH]c3cc(F)ccc23)CC1 (IC50 Fluorescence not available).\n",
      "Skipping datapoint O=C(c1cc(=O)[nH]c2ccc(F)cc12)N1CCN(S(=O)(=O)c2cccc(Cl)c2)CC1 (IC50 Fluorescence not available).\n",
      "Skipping datapoint Cc1[nH]ncc1NC(=O)Cc1cccc(Cl)c1 (IC50 Fluorescence not available).\n",
      "Skipping datapoint Cc1ccncc1NC(=O)Cc1cccc(I)c1 (IC50 Fluorescence not available).\n",
      "Skipping datapoint O=C1NC(c2cccnc2)C(=O)N1c1cccc(Cl)c1 (IC50 Fluorescence not available).\n",
      "Skipping datapoint Cn1ccc(C(=O)NC[C@@H]2CCCO2)n1 (IC50 Fluorescence not available).\n",
      "Skipping datapoint C=CC(=O)N(c1ccc(CCC#N)cc1)C(C(=O)NC(C)(C)C)c1cccnc1 (IC50 Fluorescence not available).\n",
      "Skipping datapoint Cc1cc(O)c2c(c1)C1(O)CC(C2=O)C2=C1C(=O)c1c(O)cccc1C2=O (IC50 Fluorescence not available).\n",
      "Skipping datapoint Cc1cc2c(c(O)c1-c1c(C)cc(O)c3c1C(=O)C=CC3=O)C(=O)C=CC2=O (IC50 Fluorescence not available).\n",
      "Skipping datapoint CC(C)(C)N1C=CN(C(C)(C)C)C1[Au]Cl (IC50 Fluorescence not available).\n",
      "Skipping datapoint CCP(CC)(CC)=[Au]S[C@@H]1O[C@H](COC(C)=O)[C@@H](OC(C)=O)[C@H](OC(C)=O)[C@H]1OC(C)=O (IC50 Fluorescence not available).\n",
      "Skipping datapoint OC[C@H]1O[C@H](S[Au])[C@H](O)[C@@H](O)[C@@H]1O (IC50 Fluorescence not available).\n",
      "Skipping datapoint N#C/C(C(=O)Nc1ccc(F)cc1)=C(/O)c1ccc(Cl)cc1 (IC50 Fluorescence not available).\n",
      "Skipping datapoint O=C(CCl)N1CCN(S(=O)(=O)c2ccc(Cc3cccc4ccccc34)cc2)CC1 (IC50 Fluorescence not available).\n",
      "Skipping datapoint Cc1ccnc2[nH]c(CC3CCN(C(=O)CCl)CC3)nc12 (IC50 Fluorescence not available).\n",
      "Skipping datapoint O=C(CCl)N1CCN(Cc2cccc(CNC(=O)N3CCOCC3)c2)CC1 (IC50 Fluorescence not available).\n",
      "Skipping datapoint CC(=O)Nc1ccc(C#N)cc1CN1CCN(C(=O)CCl)CC1 (IC50 Fluorescence not available).\n",
      "Skipping datapoint NS(=O)(=O)c1ccc(N2CCC(Nc3ccc(F)cc3)CC2)cc1 (IC50 Fluorescence not available).\n",
      "Skipping datapoint NS(=O)(=O)c1ccc(N2CCC(N3CCCCCC3)CC2)cc1 (IC50 Fluorescence not available).\n",
      "Skipping datapoint NS(=O)(=O)c1ccc(N2CCC([C@@H]3CCCO3)CC2)cc1 (IC50 Fluorescence not available).\n",
      "Skipping datapoint Cc1ccn2c(-c3ccc4[nH]ncc4c3)c(-c3ccc(F)cc3)nc2c1 (IC50 Fluorescence not available).\n",
      "Skipping datapoint CC1C(O)CCCN1Cc1ccccc1 (IC50 Fluorescence not available).\n",
      "Skipping datapoint O=C(CCl)N1CCN(Cc2cccc(Cl)c2)C[C@@H]1Cc1ccccc1 (IC50 Fluorescence not available).\n",
      "Skipping datapoint CS(=O)(=O)N(CCc1ccccc1)CC1CCN(C(=O)CCl)CC1 (IC50 Fluorescence not available).\n",
      "Skipping datapoint O=C(Nc1cccnc1)N(CCN1CCOCC1)c1cccc(Cl)c1 (IC50 Fluorescence not available).\n"
     ]
    }
   ],
   "source": [
    "task = load_covid_moonshot_dataset(\"covid-moonshot-dataset.csv\", \"../../fs_mol/preprocessing/utils/helper_files/\")\n",
    "dataset = task.samples\n",
    "\n",
    "fp_all = get_binary_fingerprints(dataset, True)\n",
    "\n",
    "x_all = torch.from_numpy(np.array(fp_all)).float().to(device)\n",
    "y_all = torch.FloatTensor([float(x.numeric_label) for x in dataset]).to(device)"
   ]
  },
  {
   "cell_type": "code",
   "execution_count": 3,
   "id": "c7406af6",
   "metadata": {},
   "outputs": [],
   "source": [
    "num_init_points = 16\n",
    "query_batch_size = 1\n",
    "num_bo_iters = 30\n",
    "kernel_type = \"tanimoto\"\n",
    "init_from = 1200\n",
    "noise_init = 0.01\n",
    "noise_prior = True\n",
    "\n",
    "num_repeats = 20\n",
    "\n",
    "bo_records = []"
   ]
  },
  {
   "cell_type": "code",
   "execution_count": 4,
   "id": "6fc4efa9",
   "metadata": {
    "scrolled": true
   },
   "outputs": [
    {
     "name": "stderr",
     "output_type": "stream",
     "text": [
      "100%|███████████████████████████████████████████████████████████████████████████████████████| 20/20 [26:59<00:00, 80.99s/it]\n"
     ]
    }
   ],
   "source": [
    "for repeat in tqdm(range(num_repeats)):\n",
    "    bo_record = run_gp_ei_bo(dataset, x_all, y_all, num_init_points, query_batch_size, num_bo_iters, kernel_type, device, init_from, noise_init, noise_prior)\n",
    "    bo_records.append(min_so_far(bo_record))"
   ]
  },
  {
   "cell_type": "code",
   "execution_count": 5,
   "id": "4752fcaa",
   "metadata": {},
   "outputs": [
    {
     "data": {
      "text/plain": [
       "<matplotlib.legend.Legend at 0x7fb8d01fe3d0>"
      ]
     },
     "execution_count": 5,
     "metadata": {},
     "output_type": "execute_result"
    },
    {
     "data": {
      "image/png": "[encoded data removed]",
      "text/plain": [
       "<Figure size 360x360 with 1 Axes>"
      ]
     },
     "metadata": {
      "needs_background": "light"
     },
     "output_type": "display_data"
    }
   ],
   "source": [
    "x_axis = np.arange(query_batch_size*num_bo_iters+1)\n",
    "\n",
    "bo_records = np.array([[float(-1.0 * y_all[i].item()) for i in bo_record] for bo_record in bo_records])\n",
    "bo_records_mean = bo_records.mean(axis=0)\n",
    "bo_records_std = bo_records.std(axis=0)\n",
    "\n",
    "plt.figure(figsize=(5,5))\n",
    "\n",
    "plt.plot(x_axis, bo_records_mean, label=\"GP-ST\")\n",
    "plt.fill_between(x_axis, bo_records_mean-bo_records_std, bo_records_mean+bo_records_std, alpha=0.4)\n",
    "\n",
    "plt.xlabel(\"Number of molecules queried\")\n",
    "plt.ylabel(\"Top-1 pIC50 Fluorescence\")\n",
    "plt.ylim(3.5, 9.0)\n",
    "plt.legend()"
   ]
  },
  {
   "cell_type": "code",
   "execution_count": 6,
   "id": "ac81272a",
   "metadata": {},
   "outputs": [],
   "source": [
    "import pickle\n",
    "\n",
    "with open(\"outputs/gpst_bo_records.pkl\", \"wb\") as output_file:\n",
    "    pickle.dump(bo_records, output_file)"
   ]
  },
  {
   "cell_type": "code",
   "execution_count": null,
   "id": "21f32a62",
   "metadata": {},
   "outputs": [],
   "source": []
  }
 ],
 "metadata": {
  "kernelspec": {
   "display_name": "Python 3 (ipykernel)",
   "language": "python",
   "name": "python3"
  },
  "language_info": {
   "codemirror_mode": {
    "name": "ipython",
    "version": 3
   },
   "file_extension": ".py",
   "mimetype": "text/x-python",
   "name": "python",
   "nbconvert_exporter": "python",
   "pygments_lexer": "ipython3",
   "version": "3.7.10"
  }
 },
 "nbformat": 4,
 "nbformat_minor": 5
}
